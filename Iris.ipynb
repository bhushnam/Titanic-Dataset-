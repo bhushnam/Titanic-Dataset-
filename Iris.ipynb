{
 "cells": [
  {
   "cell_type": "code",
   "execution_count": 42,
   "id": "ef75782e-b547-4c48-964d-cdddf9693104",
   "metadata": {},
   "outputs": [
    {
     "name": "stderr",
     "output_type": "stream",
     "text": [
      "C:\\Users\\sagar\\AppData\\Local\\Temp\\ipykernel_31364\\798345464.py:7: FutureWarning: A value is trying to be set on a copy of a DataFrame or Series through chained assignment using an inplace method.\n",
      "The behavior will change in pandas 3.0. This inplace method will never work because the intermediate object on which we are setting values always behaves as a copy.\n",
      "\n",
      "For example, when doing 'df[col].method(value, inplace=True)', try using 'df.method({col: value}, inplace=True)' or df[col] = df[col].method(value) instead, to perform the operation inplace on the original object.\n",
      "\n",
      "\n",
      "  data[\"SepalLengthCm\"].fillna(data[\"SepalLengthCm\"].mean(),inplace=True)\n",
      "C:\\Users\\sagar\\AppData\\Local\\Temp\\ipykernel_31364\\798345464.py:9: FutureWarning: A value is trying to be set on a copy of a DataFrame or Series through chained assignment using an inplace method.\n",
      "The behavior will change in pandas 3.0. This inplace method will never work because the intermediate object on which we are setting values always behaves as a copy.\n",
      "\n",
      "For example, when doing 'df[col].method(value, inplace=True)', try using 'df.method({col: value}, inplace=True)' or df[col] = df[col].method(value) instead, to perform the operation inplace on the original object.\n",
      "\n",
      "\n",
      "  data[\"PetalLengthCm\"].fillna(data[\"PetalLengthCm\"].mean(),inplace=True)\n",
      "C:\\ProgramData\\anaconda3\\Lib\\site-packages\\sklearn\\linear_model\\_logistic.py:469: ConvergenceWarning: lbfgs failed to converge (status=1):\n",
      "STOP: TOTAL NO. of ITERATIONS REACHED LIMIT.\n",
      "\n",
      "Increase the number of iterations (max_iter) or scale the data as shown in:\n",
      "    https://scikit-learn.org/stable/modules/preprocessing.html\n",
      "Please also refer to the documentation for alternative solver options:\n",
      "    https://scikit-learn.org/stable/modules/linear_model.html#logistic-regression\n",
      "  n_iter_i = _check_optimize_result(\n"
     ]
    },
    {
     "data": {
      "text/plain": [
       "(100.0, 100.0)"
      ]
     },
     "execution_count": 42,
     "metadata": {},
     "output_type": "execute_result"
    }
   ],
   "source": [
    "import pandas as pd\n",
    "import numpy as np\n",
    "data=pd.read_csv(r\"C:\\Users\\sagar\\Downloads\\Iris.csv\")\n",
    "data.head()\n",
    "data.isnull().sum()\n",
    "data.columns = data.columns.str.strip()\n",
    "data[\"SepalLengthCm\"].fillna(data[\"SepalLengthCm\"].mean(),inplace=True)\n",
    "data=data.drop(\"SepalWidthCm\",axis=1)\n",
    "data[\"PetalLengthCm\"].fillna(data[\"PetalLengthCm\"].mean(),inplace=True)\n",
    "data.isnull().sum()\n",
    "from sklearn.preprocessing import OneHotEncoder,LabelEncoder,OrdinalEncoder\n",
    "la=LabelEncoder()\n",
    "en=data[\"Species\"]\n",
    "pd.get_dummies(en)\n",
    "ohe=OneHotEncoder(drop=\"first\")\n",
    "ar=la.fit_transform(en)\n",
    "data[\"Species\"]=ar\n",
    "data.head(100)\n",
    "x=data.iloc[:,:-1]\n",
    "y=data[\"Species\"]\n",
    "from sklearn.model_selection import train_test_split\n",
    "x_train,x_test,y_train,y_test=train_test_split(x,y,test_size=0.2,random_state=42)\n",
    "from sklearn.linear_model import LogisticRegression\n",
    "la=LogisticRegression()\n",
    "la.fit(x_train,y_train)\n",
    "la.score(x_train,y_train)*100,la.score(x_test,y_test)*100"
   ]
  },
  {
   "cell_type": "code",
   "execution_count": null,
   "id": "0a3907ef-ec79-4c75-befa-efe6d7f531ef",
   "metadata": {},
   "outputs": [],
   "source": []
  }
 ],
 "metadata": {
  "kernelspec": {
   "display_name": "Python [conda env:base] *",
   "language": "python",
   "name": "conda-base-py"
  },
  "language_info": {
   "codemirror_mode": {
    "name": "ipython",
    "version": 3
   },
   "file_extension": ".py",
   "mimetype": "text/x-python",
   "name": "python",
   "nbconvert_exporter": "python",
   "pygments_lexer": "ipython3",
   "version": "3.12.7"
  }
 },
 "nbformat": 4,
 "nbformat_minor": 5
}
